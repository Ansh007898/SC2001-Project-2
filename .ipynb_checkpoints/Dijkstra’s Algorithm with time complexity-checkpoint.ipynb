{
 "cells": [
  {
   "cell_type": "markdown",
   "id": "26a6ffc7",
   "metadata": {},
   "source": [
    "## a) create adjacency matrix and list"
   ]
  },
  {
   "cell_type": "code",
   "execution_count": 2,
   "id": "f7be1839",
   "metadata": {},
   "outputs": [],
   "source": [
    "V = 11\n",
    "E = 23"
   ]
  },
  {
   "cell_type": "code",
   "execution_count": 3,
   "id": "2cf9143d",
   "metadata": {},
   "outputs": [],
   "source": [
    "from collections import defaultdict"
   ]
  },
  {
   "cell_type": "code",
   "execution_count": 4,
   "id": "64865d01",
   "metadata": {},
   "outputs": [
    {
     "data": {
      "text/plain": [
       "{0: [[2, 76]],\n",
       " 1: [[2, 20], [9, 78]],\n",
       " 2: [[2, 62], [5, 99], [6, 72], [7, 40]],\n",
       " 3: [[0, 8], [6, 71], [8, 61]],\n",
       " 4: [[2, 16], [4, 54], [8, 3]],\n",
       " 5: [[9, 66]],\n",
       " 6: [[1, 92], [4, 48], [6, 31]],\n",
       " 7: [[6, 36]],\n",
       " 8: [[9, 88], [10, 16]],\n",
       " 9: [[7, 4], [10, 46]],\n",
       " 10: [[8, 40]]}"
      ]
     },
     "execution_count": 4,
     "metadata": {},
     "output_type": "execute_result"
    }
   ],
   "source": [
    "adjList = {\n",
    "    0: [[2, 76]],\n",
    "    1: [[2, 20], [9, 78]],\n",
    "    2: [[2, 62], [5, 99], [6, 72], [7, 40]],\n",
    "    3: [[0,  8], [6, 71], [8, 61]],\n",
    "    4: [[2, 16], [4, 54], [8,  3]],\n",
    "    5: [[9, 66]],\n",
    "    6: [[1, 92], [4, 48], [6, 31]],\n",
    "    7: [[6, 36]],\n",
    "    8: [[9, 88], [10, 16]],\n",
    "    9: [[7,  4], [10, 46]],\n",
    "    10: [[8, 40]]\n",
    "}\n",
    "adjList"
   ]
  },
  {
   "cell_type": "code",
   "execution_count": 5,
   "id": "6a3c3717",
   "metadata": {},
   "outputs": [
    {
     "data": {
      "text/plain": [
       "[[0, 0, 76, 0, 0, 0, 0, 0, 0, 0, 0],\n",
       " [0, 0, 20, 0, 0, 0, 0, 0, 0, 78, 0],\n",
       " [0, 0, 62, 0, 0, 99, 72, 40, 0, 0, 0],\n",
       " [8, 0, 0, 0, 0, 0, 71, 0, 61, 0, 0],\n",
       " [0, 0, 16, 0, 54, 0, 0, 0, 3, 0, 0],\n",
       " [0, 0, 0, 0, 0, 0, 0, 0, 0, 66, 0],\n",
       " [0, 92, 0, 0, 48, 0, 31, 0, 0, 0, 0],\n",
       " [0, 0, 0, 0, 0, 0, 36, 0, 0, 0, 0],\n",
       " [0, 0, 0, 0, 0, 0, 0, 0, 0, 88, 16],\n",
       " [0, 0, 0, 0, 0, 0, 0, 4, 0, 0, 46],\n",
       " [0, 0, 0, 0, 0, 0, 0, 0, 40, 0, 0]]"
      ]
     },
     "execution_count": 5,
     "metadata": {},
     "output_type": "execute_result"
    }
   ],
   "source": [
    "graph = [[0 for column in range(V)] for row in range(V)]\n",
    "for i in range(V):\n",
    "    for j in adjList[i]:\n",
    "        graph[i][j[0]] = j[1]\n",
    "graph"
   ]
  },
  {
   "cell_type": "markdown",
   "id": "717b3820",
   "metadata": {},
   "source": [
    "## Dijkstra with array"
   ]
  },
  {
   "cell_type": "code",
   "execution_count": 6,
   "id": "2a909286",
   "metadata": {},
   "outputs": [],
   "source": [
    "import numpy as np"
   ]
  },
  {
   "cell_type": "code",
   "execution_count": 7,
   "id": "2c91ecef",
   "metadata": {},
   "outputs": [],
   "source": [
    "pq = np.repeat(False, V)\n",
    "dist = np.repeat(1e7, V)\n",
    "def checkEmpty(array):\n",
    "    for x in range(V):\n",
    "        if array[x]:\n",
    "            return False\n",
    "    return True"
   ]
  },
  {
   "cell_type": "code",
   "execution_count": 8,
   "id": "7ed40311",
   "metadata": {},
   "outputs": [],
   "source": [
    "pq[0] = True\n",
    "dist[0] = 0\n",
    "time = 0"
   ]
  },
  {
   "cell_type": "code",
   "execution_count": 9,
   "id": "65325790",
   "metadata": {},
   "outputs": [],
   "source": [
    "while not checkEmpty(pq):\n",
    "    min = 1e7\n",
    "    for v in range(V):\n",
    "            if dist[v] < min and pq[v] == True:\n",
    "                min = dist[v]\n",
    "                u = v\n",
    "                time += 1\n",
    "    pq[u] = False\n",
    "    \n",
    "    for i in range(V):\n",
    "        if graph[u][i] != 0 and dist[i] > dist[u] + graph[u][i]:\n",
    "            dist[i] = dist[u] + graph[u][i]\n",
    "            pq[i] = True\n",
    "            time += 1"
   ]
  },
  {
   "cell_type": "code",
   "execution_count": 10,
   "id": "4a8a4b10",
   "metadata": {
    "scrolled": true
   },
   "outputs": [
    {
     "name": "stdout",
     "output_type": "stream",
     "text": [
      "Vertex \t Distance from Source\n",
      "0 \t\t 0.0\n",
      "1 \t\t 240.0\n",
      "2 \t\t 76.0\n",
      "3 \t\t 10000000.0\n",
      "4 \t\t 196.0\n",
      "5 \t\t 175.0\n",
      "6 \t\t 148.0\n",
      "7 \t\t 116.0\n",
      "8 \t\t 199.0\n",
      "9 \t\t 241.0\n",
      "10 \t\t 215.0\n"
     ]
    }
   ],
   "source": [
    "print(\"Vertex \\t Distance from Source\")\n",
    "for node in range(V):\n",
    "    print(node, \"\\t\\t\", dist[node])"
   ]
  },
  {
   "cell_type": "code",
   "execution_count": 11,
   "id": "5fe4ff1f",
   "metadata": {},
   "outputs": [
    {
     "name": "stdout",
     "output_type": "stream",
     "text": [
      "Time Complexity:  27\n"
     ]
    }
   ],
   "source": [
    "print(\"Time Complexity: \", time)"
   ]
  },
  {
   "cell_type": "markdown",
   "id": "3d7c3875",
   "metadata": {},
   "source": [
    "## Dijkstra with Heap"
   ]
  },
  {
   "cell_type": "code",
   "execution_count": 12,
   "id": "530123fb",
   "metadata": {},
   "outputs": [],
   "source": [
    "time = 0"
   ]
  },
  {
   "cell_type": "code",
   "execution_count": 13,
   "id": "c2608124",
   "metadata": {},
   "outputs": [],
   "source": [
    "class Heap():\n",
    " \n",
    "    def __init__(self):\n",
    "        self.array = []\n",
    "        self.size = 0\n",
    "        self.pos = []\n",
    "    \n",
    "    def newMinHeapNode(self, v, dist):\n",
    "        minHeapNode = [v, dist]\n",
    "        return minHeapNode\n",
    "    \n",
    "    def swapMinHeapNode(self, a, b):\n",
    "        t = self.array[a]\n",
    "        self.array[a] = self.array[b]\n",
    "        self.array[b] = t\n",
    "        \n",
    "    def minHeapify(self, idx, time):\n",
    "        smallest = idx\n",
    "        left = 2*idx + 1\n",
    "        right = 2*idx + 2\n",
    " \n",
    "        if (left < self.size and\n",
    "           self.array[left][1]\n",
    "            < self.array[smallest][1]):\n",
    "            smallest = left\n",
    " \n",
    "        if (right < self.size and\n",
    "           self.array[right][1]\n",
    "            < self.array[smallest][1]):\n",
    "            smallest = right\n",
    "        \n",
    "        if smallest != idx:\n",
    " \n",
    "            self.pos[self.array[smallest][0]] = idx\n",
    "            self.pos[self.array[idx][0]] = smallest\n",
    " \n",
    "            self.swapMinHeapNode(smallest, idx)\n",
    " \n",
    "            time = self.minHeapify(smallest, time)\n",
    "            time += 1\n",
    "        return time\n",
    "    \n",
    "    def extractMin(self, time):\n",
    " \n",
    "        # Return NULL wif heap is empty\n",
    "        if self.isEmpty() == True:\n",
    "            return\n",
    " \n",
    "        # Store the root node\n",
    "        root = self.array[0]\n",
    " \n",
    "        # Replace root node with last node\n",
    "        lastNode = self.array[self.size - 1]\n",
    "        self.array[0] = lastNode\n",
    " \n",
    "        # Update position of last node\n",
    "        self.pos[lastNode[0]] = 0\n",
    "        self.pos[root[0]] = self.size - 1\n",
    " \n",
    "        # Reduce heap size and heapify root\n",
    "        self.size -= 1\n",
    "        time = self.minHeapify(0, time)\n",
    " \n",
    "        return root, time\n",
    "\n",
    "    def isEmpty(self):\n",
    "        return True if self.size == 0 else False\n",
    "    \n",
    "    def decreaseKey(self, v, dist):\n",
    " \n",
    "        # Get the index of v in  heap array\n",
    " \n",
    "        i = self.pos[v]\n",
    " \n",
    "        # Get the node and update its dist value\n",
    "        self.array[i][1] = dist\n",
    " \n",
    "        # Travel up while the complete tree is\n",
    "        # not heapified. This is a O(Logn) loop\n",
    "        while (i > 0 and self.array[i][1] <\n",
    "                  self.array[(i - 1) // 2][1]):\n",
    " \n",
    "            # Swap this node with its parent\n",
    "            self.pos[ self.array[i][0] ] = (i-1)//2\n",
    "            self.pos[ self.array[(i-1)//2][0] ] = i\n",
    "            self.swapMinHeapNode(i, (i - 1)//2 )\n",
    " \n",
    "            # move to parent index\n",
    "            i = (i - 1) // 2;\n",
    "     \n",
    "    def isInMinHeap(self, v):\n",
    " \n",
    "        if self.pos[v] < self.size:\n",
    "            return True\n",
    "        return False"
   ]
  },
  {
   "cell_type": "code",
   "execution_count": 15,
   "id": "fbc451f9",
   "metadata": {},
   "outputs": [],
   "source": [
    "dist2 = []\n",
    "\n",
    "minHeap = Heap()\n",
    "\n",
    "for v in range(V):\n",
    "    dist2.append(1e7)\n",
    "    minHeap.array.append(minHeap.newMinHeapNode(v, dist2[v]))\n",
    "    minHeap.pos.append(v)\n",
    "\n",
    "minHeap.pos[0] = 0\n",
    "dist2[0] = 0\n",
    "minHeap.decreaseKey(0, dist2[0])\n",
    "minHeap.size = V\n",
    "\n",
    "while minHeap.isEmpty() == False:\n",
    "    tup = minHeap.extractMin(time)\n",
    "    newHeapNode = tup[0]\n",
    "    time = tup[1]\n",
    "    u = newHeapNode[0]\n",
    "    \n",
    "    for i in adjList[u]:\n",
    "        v = i[0]\n",
    "    \n",
    "        if (minHeap.isInMinHeap(v) and dist2[u] != 1e7 and i[1] + dist2[u] < dist2[v]):\n",
    "            dist2[v] = i[1] + dist2[u]\n",
    "            minHeap.decreaseKey(v, dist2[v])\n",
    "            time += 1"
   ]
  },
  {
   "cell_type": "code",
   "execution_count": 16,
   "id": "fbbf9cd2",
   "metadata": {},
   "outputs": [
    {
     "name": "stdout",
     "output_type": "stream",
     "text": [
      "Vertex \t Distance from Source\n",
      "0 \t\t 0\n",
      "1 \t\t 240\n",
      "2 \t\t 76\n",
      "3 \t\t 10000000.0\n",
      "4 \t\t 196\n",
      "5 \t\t 175\n",
      "6 \t\t 148\n",
      "7 \t\t 116\n",
      "8 \t\t 199\n",
      "9 \t\t 241\n",
      "10 \t\t 215\n"
     ]
    }
   ],
   "source": [
    "print(\"Vertex \\t Distance from Source\")\n",
    "for node in range(V):\n",
    "    print(node, \"\\t\\t\", dist2[node])"
   ]
  },
  {
   "cell_type": "code",
   "execution_count": 17,
   "id": "d2669a3f",
   "metadata": {},
   "outputs": [
    {
     "name": "stdout",
     "output_type": "stream",
     "text": [
      "Time Complexity:  19\n"
     ]
    }
   ],
   "source": [
    "print(\"Time Complexity: \", time)"
   ]
  },
  {
   "cell_type": "code",
   "execution_count": null,
   "id": "0c53817d",
   "metadata": {},
   "outputs": [],
   "source": []
  }
 ],
 "metadata": {
  "kernelspec": {
   "display_name": "Python 3 (ipykernel)",
   "language": "python",
   "name": "python3"
  },
  "language_info": {
   "codemirror_mode": {
    "name": "ipython",
    "version": 3
   },
   "file_extension": ".py",
   "mimetype": "text/x-python",
   "name": "python",
   "nbconvert_exporter": "python",
   "pygments_lexer": "ipython3",
   "version": "3.9.13"
  }
 },
 "nbformat": 4,
 "nbformat_minor": 5
}
